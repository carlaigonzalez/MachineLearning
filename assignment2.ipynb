{
 "cells": [
  {
   "cell_type": "markdown",
   "id": "0ed202f7",
   "metadata": {},
   "source": [
    "# Assignment 1Solution: Feature Engineering on Housing Dataset"
   ]
  },
  {
   "cell_type": "markdown",
   "id": "cb2af1ed",
   "metadata": {},
   "source": [
    "*Note:* Here, I have provided only code for Assignment-1 without any markdowns/insights. This should be only used as a code reference and should not be viewed as a template for subsequent assignments. \n",
    "\n",
    "You should ALWYAS add markdowns containing your explanations, insights and rationales and would be penalized for not using markdown blocks. "
   ]
  },
  {
   "cell_type": "code",
   "execution_count": 12,
   "id": "c3c0ad26",
   "metadata": {},
   "outputs": [
    {
     "name": "stdout",
     "output_type": "stream",
     "text": [
      "LotShape 1-hot shape = (1460, 4)\n",
      "LotConfig 1-hot shape = (1460, 5)\n",
      "Neighborhood 1-hot shape = (1460, 25)\n",
      "Shape of data after concatenating all 1-hot encodings = (1460, 42)\n",
      "Shape of data after droping original categorical columns = (1460, 39)\n"
     ]
    },
    {
     "data": {
      "text/html": [
       "<div>\n",
       "<style scoped>\n",
       "    .dataframe tbody tr th:only-of-type {\n",
       "        vertical-align: middle;\n",
       "    }\n",
       "\n",
       "    .dataframe tbody tr th {\n",
       "        vertical-align: top;\n",
       "    }\n",
       "\n",
       "    .dataframe thead th {\n",
       "        text-align: right;\n",
       "    }\n",
       "</style>\n",
       "<table border=\"1\" class=\"dataframe\">\n",
       "  <thead>\n",
       "    <tr style=\"text-align: right;\">\n",
       "      <th></th>\n",
       "      <th>OverallQual</th>\n",
       "      <th>OverallCond</th>\n",
       "      <th>YearRemodAdd</th>\n",
       "      <th>GrLivArea</th>\n",
       "      <th>MoSold</th>\n",
       "      <th>0</th>\n",
       "      <th>1</th>\n",
       "      <th>2</th>\n",
       "      <th>3</th>\n",
       "      <th>0</th>\n",
       "      <th>...</th>\n",
       "      <th>15</th>\n",
       "      <th>16</th>\n",
       "      <th>17</th>\n",
       "      <th>18</th>\n",
       "      <th>19</th>\n",
       "      <th>20</th>\n",
       "      <th>21</th>\n",
       "      <th>22</th>\n",
       "      <th>23</th>\n",
       "      <th>24</th>\n",
       "    </tr>\n",
       "  </thead>\n",
       "  <tbody>\n",
       "    <tr>\n",
       "      <th>0</th>\n",
       "      <td>0.666667</td>\n",
       "      <td>0.500</td>\n",
       "      <td>0.883333</td>\n",
       "      <td>0.259231</td>\n",
       "      <td>0.090909</td>\n",
       "      <td>0.0</td>\n",
       "      <td>0.0</td>\n",
       "      <td>0.0</td>\n",
       "      <td>1.0</td>\n",
       "      <td>0.0</td>\n",
       "      <td>...</td>\n",
       "      <td>0.0</td>\n",
       "      <td>0.0</td>\n",
       "      <td>0.0</td>\n",
       "      <td>0.0</td>\n",
       "      <td>0.0</td>\n",
       "      <td>0.0</td>\n",
       "      <td>0.0</td>\n",
       "      <td>0.0</td>\n",
       "      <td>0.0</td>\n",
       "      <td>0.0</td>\n",
       "    </tr>\n",
       "    <tr>\n",
       "      <th>1</th>\n",
       "      <td>0.555556</td>\n",
       "      <td>0.875</td>\n",
       "      <td>0.433333</td>\n",
       "      <td>0.174830</td>\n",
       "      <td>0.363636</td>\n",
       "      <td>0.0</td>\n",
       "      <td>0.0</td>\n",
       "      <td>0.0</td>\n",
       "      <td>1.0</td>\n",
       "      <td>0.0</td>\n",
       "      <td>...</td>\n",
       "      <td>0.0</td>\n",
       "      <td>0.0</td>\n",
       "      <td>0.0</td>\n",
       "      <td>0.0</td>\n",
       "      <td>0.0</td>\n",
       "      <td>0.0</td>\n",
       "      <td>0.0</td>\n",
       "      <td>0.0</td>\n",
       "      <td>0.0</td>\n",
       "      <td>1.0</td>\n",
       "    </tr>\n",
       "    <tr>\n",
       "      <th>2</th>\n",
       "      <td>0.666667</td>\n",
       "      <td>0.500</td>\n",
       "      <td>0.866667</td>\n",
       "      <td>0.273549</td>\n",
       "      <td>0.727273</td>\n",
       "      <td>1.0</td>\n",
       "      <td>0.0</td>\n",
       "      <td>0.0</td>\n",
       "      <td>0.0</td>\n",
       "      <td>0.0</td>\n",
       "      <td>...</td>\n",
       "      <td>0.0</td>\n",
       "      <td>0.0</td>\n",
       "      <td>0.0</td>\n",
       "      <td>0.0</td>\n",
       "      <td>0.0</td>\n",
       "      <td>0.0</td>\n",
       "      <td>0.0</td>\n",
       "      <td>0.0</td>\n",
       "      <td>0.0</td>\n",
       "      <td>0.0</td>\n",
       "    </tr>\n",
       "    <tr>\n",
       "      <th>3</th>\n",
       "      <td>0.666667</td>\n",
       "      <td>0.500</td>\n",
       "      <td>0.333333</td>\n",
       "      <td>0.260550</td>\n",
       "      <td>0.090909</td>\n",
       "      <td>1.0</td>\n",
       "      <td>0.0</td>\n",
       "      <td>0.0</td>\n",
       "      <td>0.0</td>\n",
       "      <td>1.0</td>\n",
       "      <td>...</td>\n",
       "      <td>0.0</td>\n",
       "      <td>0.0</td>\n",
       "      <td>0.0</td>\n",
       "      <td>0.0</td>\n",
       "      <td>0.0</td>\n",
       "      <td>0.0</td>\n",
       "      <td>0.0</td>\n",
       "      <td>0.0</td>\n",
       "      <td>0.0</td>\n",
       "      <td>0.0</td>\n",
       "    </tr>\n",
       "    <tr>\n",
       "      <th>4</th>\n",
       "      <td>0.777778</td>\n",
       "      <td>0.500</td>\n",
       "      <td>0.833333</td>\n",
       "      <td>0.351168</td>\n",
       "      <td>1.000000</td>\n",
       "      <td>1.0</td>\n",
       "      <td>0.0</td>\n",
       "      <td>0.0</td>\n",
       "      <td>0.0</td>\n",
       "      <td>0.0</td>\n",
       "      <td>...</td>\n",
       "      <td>1.0</td>\n",
       "      <td>0.0</td>\n",
       "      <td>0.0</td>\n",
       "      <td>0.0</td>\n",
       "      <td>0.0</td>\n",
       "      <td>0.0</td>\n",
       "      <td>0.0</td>\n",
       "      <td>0.0</td>\n",
       "      <td>0.0</td>\n",
       "      <td>0.0</td>\n",
       "    </tr>\n",
       "  </tbody>\n",
       "</table>\n",
       "<p>5 rows × 39 columns</p>\n",
       "</div>"
      ],
      "text/plain": [
       "   OverallQual  OverallCond  YearRemodAdd  GrLivArea    MoSold    0    1    2  \\\n",
       "0     0.666667        0.500      0.883333   0.259231  0.090909  0.0  0.0  0.0   \n",
       "1     0.555556        0.875      0.433333   0.174830  0.363636  0.0  0.0  0.0   \n",
       "2     0.666667        0.500      0.866667   0.273549  0.727273  1.0  0.0  0.0   \n",
       "3     0.666667        0.500      0.333333   0.260550  0.090909  1.0  0.0  0.0   \n",
       "4     0.777778        0.500      0.833333   0.351168  1.000000  1.0  0.0  0.0   \n",
       "\n",
       "     3    0  ...   15   16   17   18   19   20   21   22   23   24  \n",
       "0  1.0  0.0  ...  0.0  0.0  0.0  0.0  0.0  0.0  0.0  0.0  0.0  0.0  \n",
       "1  1.0  0.0  ...  0.0  0.0  0.0  0.0  0.0  0.0  0.0  0.0  0.0  1.0  \n",
       "2  0.0  0.0  ...  0.0  0.0  0.0  0.0  0.0  0.0  0.0  0.0  0.0  0.0  \n",
       "3  0.0  1.0  ...  0.0  0.0  0.0  0.0  0.0  0.0  0.0  0.0  0.0  0.0  \n",
       "4  0.0  0.0  ...  1.0  0.0  0.0  0.0  0.0  0.0  0.0  0.0  0.0  0.0  \n",
       "\n",
       "[5 rows x 39 columns]"
      ]
     },
     "execution_count": 12,
     "metadata": {},
     "output_type": "execute_result"
    }
   ],
   "source": [
    "# import libraries only ONCE\n",
    "import pandas as pd\n",
    "from sklearn.preprocessing import OneHotEncoder, MinMaxScaler\n",
    "\n",
    "# Reading in the data and dropping duplicates\n",
    "housing_df = pd.read_csv('train.csv')\n",
    "housing_df = housing_df.drop_duplicates()\n",
    "\n",
    "# Selecting all relevant columns (includes features and labels)\n",
    "selected_columns_df = housing_df[[\"LotShape\", \"LotConfig\", \"Neighborhood\", \"OverallQual\", \"OverallCond\", \"YearRemodAdd\", \"GrLivArea\", \"MoSold\", \"SalePrice\"]]\n",
    "\n",
    "# Dropping any incomplete columns (columns with nan values)\n",
    "selected_columns_df = selected_columns_df.dropna()\n",
    "\n",
    "housing_features_df = selected_columns_df[[\"LotShape\", \"LotConfig\", \"Neighborhood\", \"OverallQual\", \"OverallCond\", \"YearRemodAdd\", \"GrLivArea\", \"MoSold\"]]\n",
    "housing_features_df.head()\n",
    "\n",
    "sales_price_df  = selected_columns_df[['SalePrice']]\n",
    "sales_price_df.head()\n",
    "\n",
    "# We have only three categorical nominal features:\n",
    "# - LotShape \n",
    "# - LotConfig \n",
    "# - Neighborhood\n",
    "\n",
    "# Transforming categorical nominal features into 1-hot encodings\n",
    "\n",
    "lotshape_list = housing_features_df[\"LotShape\"].to_list()\n",
    "lotconfig_list = housing_features_df[\"LotConfig\"].to_list()\n",
    "neighborhood_list = housing_features_df[\"Neighborhood\"].to_list()\n",
    "\n",
    "# Convert to list of lists that scikit learn 1-hot encoder expects\n",
    "lotshape_list_of_list = [[el] for el in lotshape_list]\n",
    "lotconfig_list_of_list = [[el] for el in lotconfig_list]\n",
    "neighborhood_list_of_list = [[el] for el in neighborhood_list]\n",
    "\n",
    "lotshape_encoder = OneHotEncoder()\n",
    "lotconfig_encoder = OneHotEncoder()\n",
    "neighborhood_encoder = OneHotEncoder()\n",
    "\n",
    "# Fit the data \n",
    "lotshape_transformed = lotshape_encoder.fit_transform(lotshape_list_of_list)\n",
    "lotconfig_transformed = lotconfig_encoder.fit_transform(lotconfig_list_of_list)\n",
    "neighborhood_transformed = neighborhood_encoder.fit_transform(neighborhood_list_of_list)\n",
    "\n",
    "# Create numpy matrices\n",
    "lotshape_transformed = lotshape_transformed.toarray()\n",
    "lotconfig_transformed = lotconfig_transformed.toarray()\n",
    "neighborhood_transformed = neighborhood_transformed.toarray()\n",
    "\n",
    "# Merging the 1-hot vectors back to the dataframe\n",
    "lotshape_transformed_df = pd.DataFrame(lotshape_transformed)\n",
    "lotconfig_transformed_df = pd.DataFrame(lotconfig_transformed)\n",
    "neighborhood_transformed_df = pd.DataFrame(neighborhood_transformed)\n",
    "\n",
    "# Sanity check for 1-hot vector sizes \n",
    "# - LotShape should result in a 1-hot vector of size 4\n",
    "# - LotConfig should result in a 1-hot vector of size 5\n",
    "# - Neighborhood should result in a 1-hot vector of size 25\n",
    "print(f\"LotShape 1-hot shape = {lotshape_transformed_df.shape}\")\n",
    "print(f\"LotConfig 1-hot shape = {lotconfig_transformed_df.shape}\")\n",
    "print(f\"Neighborhood 1-hot shape = {neighborhood_transformed_df.shape}\")\n",
    "\n",
    "# Concatenate back into the dataframe \n",
    "housing_features_df.reset_index(drop=True, inplace=True)\n",
    "lotshape_transformed_df.reset_index(drop=True, inplace=True)\n",
    "lotconfig_transformed_df.reset_index(drop=True, inplace=True)\n",
    "neighborhood_transformed_df.reset_index(drop=True, inplace=True)\n",
    "\n",
    "housing_features_transformed_df = pd.concat([housing_features_df, lotshape_transformed_df, lotconfig_transformed_df, neighborhood_transformed_df], axis=1)\n",
    "\n",
    "# Total columns we have  = 8 (original) + 4 + 5 + 25 \n",
    "# So, this should print 1460 * 42\n",
    "print(f\"Shape of data after concatenating all 1-hot encodings = {housing_features_transformed_df.shape}\")\n",
    "\n",
    "# Now drop columns we have already transformed into 1-hot\n",
    "housing_features_transformed_df = housing_features_transformed_df.drop(columns=[\"LotShape\", \"LotConfig\", \"Neighborhood\"], axis=1)\n",
    "# Now, let's print the shape of our final data (should be 1460 * 39)\n",
    "print(f\"Shape of data after droping original categorical columns = {housing_features_transformed_df.shape}\")\n",
    "\n",
    "# Extra Credit : We are using MinMax Scaling\n",
    "# It is debatable if we should scale categorical ordinal features such as \"YearRemodAdd\" and \"MoSold\"\n",
    "# I have scaled everything for the sake of simplicity\n",
    "scaler = MinMaxScaler()\n",
    "housing_features_transformed_df[['OverallQual', 'OverallCond', 'YearRemodAdd','GrLivArea','MoSold']] = scaler.fit_transform(housing_features_transformed_df[['OverallQual', 'OverallCond', 'YearRemodAdd','GrLivArea','MoSold']])\n",
    "\n",
    "housing_features_transformed_df.head()"
   ]
  },
  {
   "cell_type": "markdown",
   "id": "c538ed08",
   "metadata": {},
   "source": [
    "##### Carla Gonzalez\n",
    "##### Monday Feb 6"
   ]
  },
  {
   "cell_type": "markdown",
   "id": "71c4a189",
   "metadata": {},
   "source": [
    "# Assignment 2: Linear Regression"
   ]
  },
  {
   "cell_type": "markdown",
   "id": "164ee8fe",
   "metadata": {},
   "source": [
    "### 1.0 Data Splitting: split dataset into training, validation and test splits (80%, 10%, 10%)"
   ]
  },
  {
   "cell_type": "code",
   "execution_count": 13,
   "id": "28dbc732",
   "metadata": {},
   "outputs": [
    {
     "name": "stdout",
     "output_type": "stream",
     "text": [
      "Features' shape =  (1460, 39)\n",
      "Label's shape  = (1460, 1)\n"
     ]
    }
   ],
   "source": [
    "# import libraries \n",
    "from sklearn.model_selection import train_test_split\n",
    "\n",
    "#transform dataframes to numpy arrays\n",
    "features_h = housing_features_transformed_df.to_numpy()\n",
    "labels_h = sales_price_df.to_numpy()\n",
    "\n",
    "print (f\"Features' shape =  {features.shape}\")\n",
    "print (f\"Label's shape  = {labels.shape}\")"
   ]
  },
  {
   "cell_type": "code",
   "execution_count": 14,
   "id": "fb30e998",
   "metadata": {},
   "outputs": [
    {
     "name": "stdout",
     "output_type": "stream",
     "text": [
      "Training: Features' shape [no. of examples * feature vector size] =  (1182, 39)\n",
      "Training: Label's shape [no. of examples * 1] = (1182, 1)\n",
      "Validation: Features' shape [no. of examples * feature vector size] =  (132, 39)\n",
      "Validation: Label's shape [no. of examples * 1] = (132, 1)\n",
      "Test: Features' shape [no. of examples * feature vector size] =  (146, 39)\n",
      "Test: Label's shape [no. of examples * 1] = (146, 1)\n"
     ]
    }
   ],
   "source": [
    "#test data\n",
    "x_, x_test, y_, y_test = train_test_split(features_h, labels_h, test_size=0.10, random_state=42)\n",
    "\n",
    "#validation data\n",
    "x_train, x_valid, y_train, y_valid = train_test_split(x_, y_, test_size=0.10, random_state=42)\n",
    "\n",
    "print (f\"Training: Features' shape [no. of examples * feature vector size] =  {x_train.shape}\")\n",
    "print (f\"Training: Label's shape [no. of examples * 1] = {y_train.shape}\")\n",
    "\n",
    "print (f\"Validation: Features' shape [no. of examples * feature vector size] =  {x_valid.shape}\")\n",
    "print (f\"Validation: Label's shape [no. of examples * 1] = {y_valid.shape}\")\n",
    "\n",
    "print (f\"Test: Features' shape [no. of examples * feature vector size] =  {x_test.shape}\")\n",
    "print (f\"Test: Label's shape [no. of examples * 1] = {y_test.shape}\")\n"
   ]
  },
  {
   "cell_type": "markdown",
   "id": "c967e9d1",
   "metadata": {},
   "source": [
    "### 2.0 Train Linear Regresion Model: Train our linear regression model using scikit-learn's LinearRegression module. "
   ]
  },
  {
   "cell_type": "code",
   "execution_count": 15,
   "id": "f31e9482",
   "metadata": {},
   "outputs": [
    {
     "name": "stdout",
     "output_type": "stream",
     "text": [
      "Training complete\n"
     ]
    }
   ],
   "source": [
    "from sklearn.linear_model import LinearRegression\n",
    "import sklearn.metrics as metrics\n",
    "\n",
    "regression = LinearRegression(copy_X=True)\n",
    "y_train = y_train.flatten()\n",
    "\n",
    "# training model\n",
    "regression = regression.fit(x_train, y_train)\n",
    "\n",
    "print (\"Training complete\")"
   ]
  },
  {
   "cell_type": "code",
   "execution_count": 16,
   "id": "b41a2779",
   "metadata": {},
   "outputs": [
    {
     "name": "stdout",
     "output_type": "stream",
     "text": [
      "Mean Squared Error on training data 1765874717.0479453\n",
      "Mean Absolute Error on training data 23367.294520547945\n",
      "Pearson correlation coefficient between training and test data is 0.9069939292736742\n"
     ]
    }
   ],
   "source": [
    "import sklearn.metrics as metrics\n",
    "from scipy.stats import pearsonr\n",
    "\n",
    "y_test = y_test.flatten()\n",
    "y_test_predicted = regression.predict(x_test)\n",
    "\n",
    "mean_squared_error=metrics.mean_squared_error(y_test, y_test_predicted)\n",
    "mean_absolute_error=metrics.mean_absolute_error(y_test, y_test_predicted)\n",
    "correlation = pearsonr(y_test, y_test_predicted)\n",
    "\n",
    "print (f\"Mean Squared Error on training data {mean_squared_error}\")\n",
    "print (f\"Mean Absolute Error on training data {mean_absolute_error}\")\n",
    "print (f\"Pearson correlation coefficient between training and test data is {correlation.statistic}\")\n"
   ]
  },
  {
   "cell_type": "markdown",
   "id": "e8babdd5",
   "metadata": {},
   "source": [
    "### Interpret evaluation results"
   ]
  },
  {
   "cell_type": "markdown",
   "id": "2cf3b26a",
   "metadata": {},
   "source": [
    "A Mean Absolute Error of +-23,367 shows the predicting price from the model can deviate 23 thousands dlls, which is not so bad.\n",
    "It can definitevely can be better but not bad for a start. "
   ]
  },
  {
   "cell_type": "code",
   "execution_count": 17,
   "id": "b8602ba4",
   "metadata": {},
   "outputs": [
    {
     "data": {
      "image/png": "[encoded data removed]",
      "text/plain": [
       "<Figure size 432x288 with 1 Axes>"
      ]
     },
     "metadata": {
      "needs_background": "light"
     },
     "output_type": "display_data"
    }
   ],
   "source": [
    "from matplotlib import pyplot as plt\n",
    "\n",
    "weights = regression.coef_\n",
    "plt.plot(range(len(weights)), weights)\n",
    "plt.xlabel(\"Feature number\")\n",
    "plt.ylabel(\"Weight learned for corresponding feature\")\n",
    "plt.show()"
   ]
  },
  {
   "cell_type": "markdown",
   "id": "c334670c",
   "metadata": {},
   "source": [
    "As we learned in class, a feature impact can be measured with its distance to 0, so as we can see in the graph:\n",
    "- LotShape: no impact\n",
    "- LotConfig: biggest impact, 5\n",
    "- Neighborhood: also has the biggest impact, 5\n",
    "- OverallQual: no impact\n",
    "- OverallCond: no impact\n",
    "- YearRemodAdd: no impact\n",
    "- GrLivArea: no impact\n",
    "- MoSold: no impact\n",
    "- SalePrice: no impact"
   ]
  },
  {
   "cell_type": "code",
   "execution_count": null,
   "id": "f9f1e4f0",
   "metadata": {},
   "outputs": [],
   "source": []
  }
 ],
 "metadata": {
  "kernelspec": {
   "display_name": "Python 3 (ipykernel)",
   "language": "python",
   "name": "python3"
  },
  "language_info": {
   "codemirror_mode": {
    "name": "ipython",
    "version": 3
   },
   "file_extension": ".py",
   "mimetype": "text/x-python",
   "name": "python",
   "nbconvert_exporter": "python",
   "pygments_lexer": "ipython3",
   "version": "3.9.12"
  }
 },
 "nbformat": 4,
 "nbformat_minor": 5
}
