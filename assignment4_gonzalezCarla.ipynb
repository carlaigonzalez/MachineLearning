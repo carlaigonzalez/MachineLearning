{
 "cells": [
  {
   "cell_type": "markdown",
   "id": "db15557a",
   "metadata": {},
   "source": [
    "## Feature Engineering for Assignment 3 and 4\n",
    "\n",
    "**Note:** This code only covers the feature engineering and data splitting part, and not model training and feature selection. I have selected a few sample features, which may not represent the ideal set of features. \n",
    "\n",
    "You may wish to use this code in Assignment 4 but I recommend you use your code from Assignment 3 first, especially if you came up with your own feature combinations and your feature engineering code ran successfully. "
   ]
  },
  {
   "cell_type": "code",
   "execution_count": 26,
   "id": "1cd984e8",
   "metadata": {
    "scrolled": true
   },
   "outputs": [
    {
     "data": {
      "text/html": [
       "<div>\n",
       "<style scoped>\n",
       "    .dataframe tbody tr th:only-of-type {\n",
       "        vertical-align: middle;\n",
       "    }\n",
       "\n",
       "    .dataframe tbody tr th {\n",
       "        vertical-align: top;\n",
       "    }\n",
       "\n",
       "    .dataframe thead th {\n",
       "        text-align: right;\n",
       "    }\n",
       "</style>\n",
       "<table border=\"1\" class=\"dataframe\">\n",
       "  <thead>\n",
       "    <tr style=\"text-align: right;\">\n",
       "      <th></th>\n",
       "      <th>Unnamed: 0</th>\n",
       "      <th>Date</th>\n",
       "      <th>Route</th>\n",
       "      <th>Succeeded</th>\n",
       "      <th>Battery Voltage AVG</th>\n",
       "      <th>Temperature AVG</th>\n",
       "      <th>Relative Humidity AVG</th>\n",
       "      <th>Wind Speed Daily AVG</th>\n",
       "      <th>Wind Direction AVG</th>\n",
       "      <th>Solare Radiation AVG</th>\n",
       "    </tr>\n",
       "  </thead>\n",
       "  <tbody>\n",
       "    <tr>\n",
       "      <th>0</th>\n",
       "      <td>0</td>\n",
       "      <td>11/27/2015</td>\n",
       "      <td>Disappointment Cleaver</td>\n",
       "      <td>0</td>\n",
       "      <td>13.643750</td>\n",
       "      <td>26.321667</td>\n",
       "      <td>19.715000</td>\n",
       "      <td>27.839583</td>\n",
       "      <td>68.004167</td>\n",
       "      <td>88.496250</td>\n",
       "    </tr>\n",
       "    <tr>\n",
       "      <th>1</th>\n",
       "      <td>1</td>\n",
       "      <td>11/21/2015</td>\n",
       "      <td>Disappointment Cleaver</td>\n",
       "      <td>0</td>\n",
       "      <td>13.749583</td>\n",
       "      <td>31.300000</td>\n",
       "      <td>21.690708</td>\n",
       "      <td>2.245833</td>\n",
       "      <td>117.549667</td>\n",
       "      <td>93.660417</td>\n",
       "    </tr>\n",
       "    <tr>\n",
       "      <th>2</th>\n",
       "      <td>2</td>\n",
       "      <td>10/15/2015</td>\n",
       "      <td>Disappointment Cleaver</td>\n",
       "      <td>0</td>\n",
       "      <td>13.461250</td>\n",
       "      <td>46.447917</td>\n",
       "      <td>27.211250</td>\n",
       "      <td>17.163625</td>\n",
       "      <td>259.121375</td>\n",
       "      <td>138.387000</td>\n",
       "    </tr>\n",
       "    <tr>\n",
       "      <th>3</th>\n",
       "      <td>3</td>\n",
       "      <td>10/13/2015</td>\n",
       "      <td>Little Tahoma</td>\n",
       "      <td>0</td>\n",
       "      <td>13.532083</td>\n",
       "      <td>40.979583</td>\n",
       "      <td>28.335708</td>\n",
       "      <td>19.591167</td>\n",
       "      <td>279.779167</td>\n",
       "      <td>176.382667</td>\n",
       "    </tr>\n",
       "    <tr>\n",
       "      <th>4</th>\n",
       "      <td>4</td>\n",
       "      <td>10/9/2015</td>\n",
       "      <td>Disappointment Cleaver</td>\n",
       "      <td>0</td>\n",
       "      <td>13.216250</td>\n",
       "      <td>38.260417</td>\n",
       "      <td>74.329167</td>\n",
       "      <td>65.138333</td>\n",
       "      <td>264.687500</td>\n",
       "      <td>27.791292</td>\n",
       "    </tr>\n",
       "  </tbody>\n",
       "</table>\n",
       "</div>"
      ],
      "text/plain": [
       "   Unnamed: 0        Date                   Route  Succeeded  \\\n",
       "0           0  11/27/2015  Disappointment Cleaver          0   \n",
       "1           1  11/21/2015  Disappointment Cleaver          0   \n",
       "2           2  10/15/2015  Disappointment Cleaver          0   \n",
       "3           3  10/13/2015           Little Tahoma          0   \n",
       "4           4   10/9/2015  Disappointment Cleaver          0   \n",
       "\n",
       "   Battery Voltage AVG  Temperature AVG  Relative Humidity AVG  \\\n",
       "0            13.643750        26.321667              19.715000   \n",
       "1            13.749583        31.300000              21.690708   \n",
       "2            13.461250        46.447917              27.211250   \n",
       "3            13.532083        40.979583              28.335708   \n",
       "4            13.216250        38.260417              74.329167   \n",
       "\n",
       "   Wind Speed Daily AVG  Wind Direction AVG  Solare Radiation AVG  \n",
       "0             27.839583           68.004167             88.496250  \n",
       "1              2.245833          117.549667             93.660417  \n",
       "2             17.163625          259.121375            138.387000  \n",
       "3             19.591167          279.779167            176.382667  \n",
       "4             65.138333          264.687500             27.791292  "
      ]
     },
     "execution_count": 26,
     "metadata": {},
     "output_type": "execute_result"
    }
   ],
   "source": [
    "# Fixing issues with printing out the dataframes using head() method\n",
    "from IPython.core.interactiveshell import InteractiveShell\n",
    "InteractiveShell.ast_node_interactivity = \"all\"\n",
    "\n",
    "import pandas as pd\n",
    "import numpy as np\n",
    "from sklearn.preprocessing import MinMaxScaler, OneHotEncoder\n",
    "from sklearn.model_selection import train_test_split\n",
    "\n",
    "# Loading the data into a dataFrame\n",
    "mt_rainier_df = pd.read_csv('MtRainier_data.csv')\n",
    "\n",
    "# Dropping duplicated data, if any\n",
    "mt_rainier_df = mt_rainier_df.drop_duplicates()\n",
    "\n",
    "# Dropping any rows with null/NaN values\n",
    "mt_rainier_df = mt_rainier_df.dropna()\n",
    "\n",
    "\n",
    "mt_rainier_df.head()"
   ]
  },
  {
   "cell_type": "markdown",
   "id": "481e8eef",
   "metadata": {},
   "source": [
    "From this, we select the following colums as features:\n",
    "\n",
    "- **'Route'** - The rationale behind selecting the column as a feature is that given the weather/climatic conditions on a given day, one route may be preferrable over others. A user may want to maximize the chances of sumitting given any route. \n",
    "- **'Temperature AVG'**: Temperature being too high or low may have adverse impact on the body and hence may reduce the chances of summitting. This is why we select this column as a feature. \n",
    "- **'Relative Humidity AVG'**: Selected for simlar reasons as Temperature AVG. \n",
    "- **'Wind Speed Daily AVG'**: Wind-speed being high or low has an impact on the ease of climbing, and hence chances of sumitting, hence selected as feature. \n",
    "- **'Wind Direction AVG'**: Wind direction change may have an adverse impact on climbing, and hence could be related to sumitting. We select this as a feature. \n",
    "- **'Solare Radiation AVG**: For the same reason as Wind Direction AVG. \n",
    "\n",
    "We select the following column as label:\n",
    "- **Succeeded** which carries a binary value for chances of sumitting (1- for success and 0- for no sucess)"
   ]
  },
  {
   "cell_type": "code",
   "execution_count": 27,
   "id": "e739a49f",
   "metadata": {},
   "outputs": [
    {
     "data": {
      "text/html": [
       "<div>\n",
       "<style scoped>\n",
       "    .dataframe tbody tr th:only-of-type {\n",
       "        vertical-align: middle;\n",
       "    }\n",
       "\n",
       "    .dataframe tbody tr th {\n",
       "        vertical-align: top;\n",
       "    }\n",
       "\n",
       "    .dataframe thead th {\n",
       "        text-align: right;\n",
       "    }\n",
       "</style>\n",
       "<table border=\"1\" class=\"dataframe\">\n",
       "  <thead>\n",
       "    <tr style=\"text-align: right;\">\n",
       "      <th></th>\n",
       "      <th>Route</th>\n",
       "      <th>Temperature AVG</th>\n",
       "      <th>Relative Humidity AVG</th>\n",
       "      <th>Wind Speed Daily AVG</th>\n",
       "      <th>Wind Direction AVG</th>\n",
       "      <th>Solare Radiation AVG</th>\n",
       "    </tr>\n",
       "  </thead>\n",
       "  <tbody>\n",
       "    <tr>\n",
       "      <th>0</th>\n",
       "      <td>Disappointment Cleaver</td>\n",
       "      <td>26.321667</td>\n",
       "      <td>19.715000</td>\n",
       "      <td>27.839583</td>\n",
       "      <td>68.004167</td>\n",
       "      <td>88.496250</td>\n",
       "    </tr>\n",
       "    <tr>\n",
       "      <th>1</th>\n",
       "      <td>Disappointment Cleaver</td>\n",
       "      <td>31.300000</td>\n",
       "      <td>21.690708</td>\n",
       "      <td>2.245833</td>\n",
       "      <td>117.549667</td>\n",
       "      <td>93.660417</td>\n",
       "    </tr>\n",
       "    <tr>\n",
       "      <th>2</th>\n",
       "      <td>Disappointment Cleaver</td>\n",
       "      <td>46.447917</td>\n",
       "      <td>27.211250</td>\n",
       "      <td>17.163625</td>\n",
       "      <td>259.121375</td>\n",
       "      <td>138.387000</td>\n",
       "    </tr>\n",
       "    <tr>\n",
       "      <th>3</th>\n",
       "      <td>Little Tahoma</td>\n",
       "      <td>40.979583</td>\n",
       "      <td>28.335708</td>\n",
       "      <td>19.591167</td>\n",
       "      <td>279.779167</td>\n",
       "      <td>176.382667</td>\n",
       "    </tr>\n",
       "    <tr>\n",
       "      <th>4</th>\n",
       "      <td>Disappointment Cleaver</td>\n",
       "      <td>38.260417</td>\n",
       "      <td>74.329167</td>\n",
       "      <td>65.138333</td>\n",
       "      <td>264.687500</td>\n",
       "      <td>27.791292</td>\n",
       "    </tr>\n",
       "  </tbody>\n",
       "</table>\n",
       "</div>"
      ],
      "text/plain": [
       "                    Route  Temperature AVG  Relative Humidity AVG  \\\n",
       "0  Disappointment Cleaver        26.321667              19.715000   \n",
       "1  Disappointment Cleaver        31.300000              21.690708   \n",
       "2  Disappointment Cleaver        46.447917              27.211250   \n",
       "3           Little Tahoma        40.979583              28.335708   \n",
       "4  Disappointment Cleaver        38.260417              74.329167   \n",
       "\n",
       "   Wind Speed Daily AVG  Wind Direction AVG  Solare Radiation AVG  \n",
       "0             27.839583           68.004167             88.496250  \n",
       "1              2.245833          117.549667             93.660417  \n",
       "2             17.163625          259.121375            138.387000  \n",
       "3             19.591167          279.779167            176.382667  \n",
       "4             65.138333          264.687500             27.791292  "
      ]
     },
     "execution_count": 27,
     "metadata": {},
     "output_type": "execute_result"
    }
   ],
   "source": [
    "features_df = mt_rainier_df[['Route', 'Temperature AVG', 'Relative Humidity AVG', 'Wind Speed Daily AVG', 'Wind Direction AVG', 'Solare Radiation AVG']]\n",
    "features_df.head()"
   ]
  },
  {
   "cell_type": "code",
   "execution_count": 28,
   "id": "55a9c48f",
   "metadata": {},
   "outputs": [
    {
     "data": {
      "text/html": [
       "<div>\n",
       "<style scoped>\n",
       "    .dataframe tbody tr th:only-of-type {\n",
       "        vertical-align: middle;\n",
       "    }\n",
       "\n",
       "    .dataframe tbody tr th {\n",
       "        vertical-align: top;\n",
       "    }\n",
       "\n",
       "    .dataframe thead th {\n",
       "        text-align: right;\n",
       "    }\n",
       "</style>\n",
       "<table border=\"1\" class=\"dataframe\">\n",
       "  <thead>\n",
       "    <tr style=\"text-align: right;\">\n",
       "      <th></th>\n",
       "      <th>Succeeded</th>\n",
       "    </tr>\n",
       "  </thead>\n",
       "  <tbody>\n",
       "    <tr>\n",
       "      <th>0</th>\n",
       "      <td>0</td>\n",
       "    </tr>\n",
       "    <tr>\n",
       "      <th>1</th>\n",
       "      <td>0</td>\n",
       "    </tr>\n",
       "    <tr>\n",
       "      <th>2</th>\n",
       "      <td>0</td>\n",
       "    </tr>\n",
       "    <tr>\n",
       "      <th>3</th>\n",
       "      <td>0</td>\n",
       "    </tr>\n",
       "    <tr>\n",
       "      <th>4</th>\n",
       "      <td>0</td>\n",
       "    </tr>\n",
       "  </tbody>\n",
       "</table>\n",
       "</div>"
      ],
      "text/plain": [
       "   Succeeded\n",
       "0          0\n",
       "1          0\n",
       "2          0\n",
       "3          0\n",
       "4          0"
      ]
     },
     "execution_count": 28,
     "metadata": {},
     "output_type": "execute_result"
    }
   ],
   "source": [
    "labels_df = mt_rainier_df[['Succeeded']]\n",
    "labels_df.head()"
   ]
  },
  {
   "cell_type": "markdown",
   "id": "955acc10",
   "metadata": {},
   "source": [
    "From our features, we observe that \"Route\" is a categorical nominal feature. It would need 1-hot transformation"
   ]
  },
  {
   "cell_type": "code",
   "execution_count": 29,
   "id": "085e3ed7",
   "metadata": {},
   "outputs": [
    {
     "name": "stdout",
     "output_type": "stream",
     "text": [
      "Route 1-hot shape is (1895, 22)\n"
     ]
    }
   ],
   "source": [
    "route_encoder = OneHotEncoder()\n",
    "\n",
    "route_list = features_df['Route'].to_list()\n",
    "route_list_of_list = [[el] for el in route_list]\n",
    "\n",
    "route_transformed = route_encoder.fit_transform(route_list_of_list)\n",
    "route_transformed = route_transformed.toarray()\n",
    "\n",
    "route_transformed_df = pd.DataFrame(route_transformed)\n",
    "print(f'Route 1-hot shape is {route_transformed_df.shape}')"
   ]
  },
  {
   "cell_type": "code",
   "execution_count": 30,
   "id": "53022f5d",
   "metadata": {
    "scrolled": true
   },
   "outputs": [
    {
     "name": "stdout",
     "output_type": "stream",
     "text": [
      "Shape of data after droping original categorical column = (1895, 27)\n"
     ]
    }
   ],
   "source": [
    "features_df.reset_index(drop=True, inplace=True)\n",
    "route_transformed_df.reset_index(drop=True, inplace=True)\n",
    "\n",
    "# Concatinating the Route dataframe + the features dataframe \n",
    "features_transformed_df = pd.concat([features_df, route_transformed_df], axis=1)\n",
    "\n",
    "# Dropping the original Route column\n",
    "features_transformed_df = features_transformed_df.drop(columns=[\"Route\"], axis=1)\n",
    "\n",
    "# Printing out the new shape after the 1-hot encoding has been finished and original column dropped\n",
    "print(f\"Shape of data after droping original categorical column = {features_transformed_df.shape}\")"
   ]
  },
  {
   "cell_type": "markdown",
   "id": "3aca70e5",
   "metadata": {},
   "source": [
    "We now scale the numerical features except route using MinMax Scaler"
   ]
  },
  {
   "cell_type": "code",
   "execution_count": 31,
   "id": "4d32a772",
   "metadata": {},
   "outputs": [
    {
     "data": {
      "text/html": [
       "<div>\n",
       "<style scoped>\n",
       "    .dataframe tbody tr th:only-of-type {\n",
       "        vertical-align: middle;\n",
       "    }\n",
       "\n",
       "    .dataframe tbody tr th {\n",
       "        vertical-align: top;\n",
       "    }\n",
       "\n",
       "    .dataframe thead th {\n",
       "        text-align: right;\n",
       "    }\n",
       "</style>\n",
       "<table border=\"1\" class=\"dataframe\">\n",
       "  <thead>\n",
       "    <tr style=\"text-align: right;\">\n",
       "      <th></th>\n",
       "      <th>Temperature AVG</th>\n",
       "      <th>Relative Humidity AVG</th>\n",
       "      <th>Wind Speed Daily AVG</th>\n",
       "      <th>Wind Direction AVG</th>\n",
       "      <th>Solare Radiation AVG</th>\n",
       "      <th>0</th>\n",
       "      <th>1</th>\n",
       "      <th>2</th>\n",
       "      <th>3</th>\n",
       "      <th>4</th>\n",
       "      <th>...</th>\n",
       "      <th>12</th>\n",
       "      <th>13</th>\n",
       "      <th>14</th>\n",
       "      <th>15</th>\n",
       "      <th>16</th>\n",
       "      <th>17</th>\n",
       "      <th>18</th>\n",
       "      <th>19</th>\n",
       "      <th>20</th>\n",
       "      <th>21</th>\n",
       "    </tr>\n",
       "  </thead>\n",
       "  <tbody>\n",
       "    <tr>\n",
       "      <th>0</th>\n",
       "      <td>0.395119</td>\n",
       "      <td>0.083886</td>\n",
       "      <td>0.427392</td>\n",
       "      <td>0.204255</td>\n",
       "      <td>0.240442</td>\n",
       "      <td>0.0</td>\n",
       "      <td>1.0</td>\n",
       "      <td>0.0</td>\n",
       "      <td>0.0</td>\n",
       "      <td>0.0</td>\n",
       "      <td>...</td>\n",
       "      <td>0.0</td>\n",
       "      <td>0.0</td>\n",
       "      <td>0.0</td>\n",
       "      <td>0.0</td>\n",
       "      <td>0.0</td>\n",
       "      <td>0.0</td>\n",
       "      <td>0.0</td>\n",
       "      <td>0.0</td>\n",
       "      <td>0.0</td>\n",
       "      <td>0.0</td>\n",
       "    </tr>\n",
       "    <tr>\n",
       "      <th>1</th>\n",
       "      <td>0.496061</td>\n",
       "      <td>0.106431</td>\n",
       "      <td>0.034478</td>\n",
       "      <td>0.389892</td>\n",
       "      <td>0.254473</td>\n",
       "      <td>0.0</td>\n",
       "      <td>1.0</td>\n",
       "      <td>0.0</td>\n",
       "      <td>0.0</td>\n",
       "      <td>0.0</td>\n",
       "      <td>...</td>\n",
       "      <td>0.0</td>\n",
       "      <td>0.0</td>\n",
       "      <td>0.0</td>\n",
       "      <td>0.0</td>\n",
       "      <td>0.0</td>\n",
       "      <td>0.0</td>\n",
       "      <td>0.0</td>\n",
       "      <td>0.0</td>\n",
       "      <td>0.0</td>\n",
       "      <td>0.0</td>\n",
       "    </tr>\n",
       "    <tr>\n",
       "      <th>2</th>\n",
       "      <td>0.803203</td>\n",
       "      <td>0.169424</td>\n",
       "      <td>0.263495</td>\n",
       "      <td>0.920335</td>\n",
       "      <td>0.375994</td>\n",
       "      <td>0.0</td>\n",
       "      <td>1.0</td>\n",
       "      <td>0.0</td>\n",
       "      <td>0.0</td>\n",
       "      <td>0.0</td>\n",
       "      <td>...</td>\n",
       "      <td>0.0</td>\n",
       "      <td>0.0</td>\n",
       "      <td>0.0</td>\n",
       "      <td>0.0</td>\n",
       "      <td>0.0</td>\n",
       "      <td>0.0</td>\n",
       "      <td>0.0</td>\n",
       "      <td>0.0</td>\n",
       "      <td>0.0</td>\n",
       "      <td>0.0</td>\n",
       "    </tr>\n",
       "    <tr>\n",
       "      <th>3</th>\n",
       "      <td>0.692326</td>\n",
       "      <td>0.182255</td>\n",
       "      <td>0.300762</td>\n",
       "      <td>0.997736</td>\n",
       "      <td>0.479228</td>\n",
       "      <td>0.0</td>\n",
       "      <td>0.0</td>\n",
       "      <td>0.0</td>\n",
       "      <td>0.0</td>\n",
       "      <td>0.0</td>\n",
       "      <td>...</td>\n",
       "      <td>0.0</td>\n",
       "      <td>0.0</td>\n",
       "      <td>0.0</td>\n",
       "      <td>0.0</td>\n",
       "      <td>0.0</td>\n",
       "      <td>0.0</td>\n",
       "      <td>0.0</td>\n",
       "      <td>0.0</td>\n",
       "      <td>0.0</td>\n",
       "      <td>0.0</td>\n",
       "    </tr>\n",
       "    <tr>\n",
       "      <th>4</th>\n",
       "      <td>0.637191</td>\n",
       "      <td>0.707076</td>\n",
       "      <td>1.000000</td>\n",
       "      <td>0.941191</td>\n",
       "      <td>0.075508</td>\n",
       "      <td>0.0</td>\n",
       "      <td>1.0</td>\n",
       "      <td>0.0</td>\n",
       "      <td>0.0</td>\n",
       "      <td>0.0</td>\n",
       "      <td>...</td>\n",
       "      <td>0.0</td>\n",
       "      <td>0.0</td>\n",
       "      <td>0.0</td>\n",
       "      <td>0.0</td>\n",
       "      <td>0.0</td>\n",
       "      <td>0.0</td>\n",
       "      <td>0.0</td>\n",
       "      <td>0.0</td>\n",
       "      <td>0.0</td>\n",
       "      <td>0.0</td>\n",
       "    </tr>\n",
       "  </tbody>\n",
       "</table>\n",
       "<p>5 rows × 27 columns</p>\n",
       "</div>"
      ],
      "text/plain": [
       "   Temperature AVG  Relative Humidity AVG  Wind Speed Daily AVG  \\\n",
       "0         0.395119               0.083886              0.427392   \n",
       "1         0.496061               0.106431              0.034478   \n",
       "2         0.803203               0.169424              0.263495   \n",
       "3         0.692326               0.182255              0.300762   \n",
       "4         0.637191               0.707076              1.000000   \n",
       "\n",
       "   Wind Direction AVG  Solare Radiation AVG    0    1    2    3    4  ...  \\\n",
       "0            0.204255              0.240442  0.0  1.0  0.0  0.0  0.0  ...   \n",
       "1            0.389892              0.254473  0.0  1.0  0.0  0.0  0.0  ...   \n",
       "2            0.920335              0.375994  0.0  1.0  0.0  0.0  0.0  ...   \n",
       "3            0.997736              0.479228  0.0  0.0  0.0  0.0  0.0  ...   \n",
       "4            0.941191              0.075508  0.0  1.0  0.0  0.0  0.0  ...   \n",
       "\n",
       "    12   13   14   15   16   17   18   19   20   21  \n",
       "0  0.0  0.0  0.0  0.0  0.0  0.0  0.0  0.0  0.0  0.0  \n",
       "1  0.0  0.0  0.0  0.0  0.0  0.0  0.0  0.0  0.0  0.0  \n",
       "2  0.0  0.0  0.0  0.0  0.0  0.0  0.0  0.0  0.0  0.0  \n",
       "3  0.0  0.0  0.0  0.0  0.0  0.0  0.0  0.0  0.0  0.0  \n",
       "4  0.0  0.0  0.0  0.0  0.0  0.0  0.0  0.0  0.0  0.0  \n",
       "\n",
       "[5 rows x 27 columns]"
      ]
     },
     "execution_count": 31,
     "metadata": {},
     "output_type": "execute_result"
    }
   ],
   "source": [
    "# Creating the scaler \n",
    "scaler = MinMaxScaler()\n",
    "\n",
    "# Scaleing the numerical features with standard scaler\n",
    "numerical_feature_names = ['Temperature AVG', \n",
    "                   'Relative Humidity AVG', \n",
    "                   'Wind Speed Daily AVG', \n",
    "                   'Wind Direction AVG', \n",
    "                   'Solare Radiation AVG']\n",
    "features_transformed_df[numerical_feature_names] = scaler.fit_transform(features_transformed_df[numerical_feature_names])\n",
    "\n",
    "# Printing out the head of the feature-engineered dataframe\n",
    "features_transformed_df.head()"
   ]
  },
  {
   "cell_type": "markdown",
   "id": "ae01178f",
   "metadata": {},
   "source": [
    "We form the train-test split. The train split can be used for cross validation"
   ]
  },
  {
   "cell_type": "code",
   "execution_count": 32,
   "id": "864763a0",
   "metadata": {
    "scrolled": true
   },
   "outputs": [
    {
     "name": "stdout",
     "output_type": "stream",
     "text": [
      "Shape of features for train+validation data= (1705, 27)\n",
      "Shape of labels for train+validation data= (1705, 1)\n",
      "Shape of features for test data = (190, 27)\n",
      "Shape of features for test data = (190, 1)\n"
     ]
    }
   ],
   "source": [
    "# Putting the features and labels into a numpy array for sklearn's data splitter\n",
    "features = features_transformed_df.to_numpy()\n",
    "labels = labels_df.to_numpy()\n",
    "\n",
    "# Splitting the data into test and training data\n",
    "_x, x_test, _y, y_test = train_test_split(features, labels, test_size=0.10, random_state=512)\n",
    "\n",
    "print (f\"Shape of features for train+validation data= {_x.shape}\")\n",
    "print (f\"Shape of labels for train+validation data= {_y.shape}\")\n",
    "print (f\"Shape of features for test data = {x_test.shape}\")\n",
    "print (f\"Shape of features for test data = {y_test.shape}\")"
   ]
  },
  {
   "cell_type": "markdown",
   "id": "165ed09a",
   "metadata": {},
   "source": [
    "- Carla Gonzalez\n",
    "- Mon Feb 27 2023\n",
    "- i320D: Applied Machine Learning on Python"
   ]
  },
  {
   "cell_type": "markdown",
   "id": "fdf7c06c",
   "metadata": {},
   "source": [
    "## Assignment 4: Decision Tree and Ensemble methods"
   ]
  },
  {
   "cell_type": "markdown",
   "id": "19c3f8e7",
   "metadata": {},
   "source": [
    "### Define and initialize classifiers:\n",
    "#### 1. Logistic Regression\n",
    "#### 2. SVC\n",
    "#### 3. Decision Tree\n",
    "#### 4. Random Forest Classifier\n",
    "#### 5. Gradient Boosting Classifier\n",
    "\n",
    "I will import the models I will use and then initialize them:"
   ]
  },
  {
   "cell_type": "code",
   "execution_count": 87,
   "id": "4b5be8ce",
   "metadata": {},
   "outputs": [
    {
     "name": "stdout",
     "output_type": "stream",
     "text": [
      "We are working with classifiers dict_keys(['lr', 'svm', 'decision_tree', 'random_forest', 'grad_boost', 'voting'])\n"
     ]
    }
   ],
   "source": [
    "from sklearn.linear_model import LogisticRegression\n",
    "from sklearn.svm import SVC\n",
    "from sklearn.tree import DecisionTreeClassifier\n",
    "from sklearn.ensemble import RandomForestClassifier, GradientBoostingClassifier, VotingClassifier\n",
    "\n",
    "\n",
    "lr_vanilla = LogisticRegression(penalty=\"none\") \n",
    "svm_linear = SVC(kernel=\"linear\")\n",
    "dt = DecisionTreeClassifier()\n",
    "rf = RandomForestClassifier(random_state=23) \n",
    "grad_boost = GradientBoostingClassifier()\n",
    "voting = VotingClassifier(estimators=[(\"1\",lr_vanilla),(\"2\",svm_linear),(\"3\",dt)])\n",
    "\n",
    "all_models = {\"lr\":lr_vanilla, \n",
    "              \"svm\":svm_linear,\n",
    "              \"decision_tree\":dt,\n",
    "              \"random_forest\":rf,\n",
    "              \"grad_boost\":grad_boost,\n",
    "              \"voting\":voting}\n",
    "\n",
    "print (f\"We are working with classifiers {all_models.keys()}\")"
   ]
  },
  {
   "cell_type": "markdown",
   "id": "2bdf18a1",
   "metadata": {},
   "source": [
    "And now we get the mean cross validation accuracy from each model to use the one with the higher accuracy:"
   ]
  },
  {
   "cell_type": "code",
   "execution_count": 94,
   "id": "2b7a3556",
   "metadata": {},
   "outputs": [
    {
     "name": "stderr",
     "output_type": "stream",
     "text": [
      "/Users/carlagonzalez/opt/anaconda3/lib/python3.9/site-packages/sklearn/linear_model/_logistic.py:814: ConvergenceWarning: lbfgs failed to converge (status=1):\n",
      "STOP: TOTAL NO. of ITERATIONS REACHED LIMIT.\n",
      "\n",
      "Increase the number of iterations (max_iter) or scale the data as shown in:\n",
      "    https://scikit-learn.org/stable/modules/preprocessing.html\n",
      "Please also refer to the documentation for alternative solver options:\n",
      "    https://scikit-learn.org/stable/modules/linear_model.html#logistic-regression\n",
      "  n_iter_i = _check_optimize_result(\n",
      "/Users/carlagonzalez/opt/anaconda3/lib/python3.9/site-packages/sklearn/linear_model/_logistic.py:814: ConvergenceWarning: lbfgs failed to converge (status=1):\n",
      "STOP: TOTAL NO. of ITERATIONS REACHED LIMIT.\n",
      "\n",
      "Increase the number of iterations (max_iter) or scale the data as shown in:\n",
      "    https://scikit-learn.org/stable/modules/preprocessing.html\n",
      "Please also refer to the documentation for alternative solver options:\n",
      "    https://scikit-learn.org/stable/modules/linear_model.html#logistic-regression\n",
      "  n_iter_i = _check_optimize_result(\n",
      "/Users/carlagonzalez/opt/anaconda3/lib/python3.9/site-packages/sklearn/linear_model/_logistic.py:814: ConvergenceWarning: lbfgs failed to converge (status=1):\n",
      "STOP: TOTAL NO. of ITERATIONS REACHED LIMIT.\n",
      "\n",
      "Increase the number of iterations (max_iter) or scale the data as shown in:\n",
      "    https://scikit-learn.org/stable/modules/preprocessing.html\n",
      "Please also refer to the documentation for alternative solver options:\n",
      "    https://scikit-learn.org/stable/modules/linear_model.html#logistic-regression\n",
      "  n_iter_i = _check_optimize_result(\n",
      "/Users/carlagonzalez/opt/anaconda3/lib/python3.9/site-packages/sklearn/linear_model/_logistic.py:814: ConvergenceWarning: lbfgs failed to converge (status=1):\n",
      "STOP: TOTAL NO. of ITERATIONS REACHED LIMIT.\n",
      "\n",
      "Increase the number of iterations (max_iter) or scale the data as shown in:\n",
      "    https://scikit-learn.org/stable/modules/preprocessing.html\n",
      "Please also refer to the documentation for alternative solver options:\n",
      "    https://scikit-learn.org/stable/modules/linear_model.html#logistic-regression\n",
      "  n_iter_i = _check_optimize_result(\n",
      "/Users/carlagonzalez/opt/anaconda3/lib/python3.9/site-packages/sklearn/linear_model/_logistic.py:814: ConvergenceWarning: lbfgs failed to converge (status=1):\n",
      "STOP: TOTAL NO. of ITERATIONS REACHED LIMIT.\n",
      "\n",
      "Increase the number of iterations (max_iter) or scale the data as shown in:\n",
      "    https://scikit-learn.org/stable/modules/preprocessing.html\n",
      "Please also refer to the documentation for alternative solver options:\n",
      "    https://scikit-learn.org/stable/modules/linear_model.html#logistic-regression\n",
      "  n_iter_i = _check_optimize_result(\n"
     ]
    },
    {
     "name": "stdout",
     "output_type": "stream",
     "text": [
      "Mean cross validation accuracy for model lr = 0.6146627565982404\n",
      "Mean cross validation accuracy for model svm = 0.6082111436950146\n",
      "Mean cross validation accuracy for model decision_tree = 0.6052785923753665\n",
      "Mean cross validation accuracy for model random_forest = 0.6211143695014663\n",
      "Mean cross validation accuracy for model grad_boost = 0.6304985337243402\n"
     ]
    },
    {
     "name": "stderr",
     "output_type": "stream",
     "text": [
      "/Users/carlagonzalez/opt/anaconda3/lib/python3.9/site-packages/sklearn/linear_model/_logistic.py:814: ConvergenceWarning: lbfgs failed to converge (status=1):\n",
      "STOP: TOTAL NO. of ITERATIONS REACHED LIMIT.\n",
      "\n",
      "Increase the number of iterations (max_iter) or scale the data as shown in:\n",
      "    https://scikit-learn.org/stable/modules/preprocessing.html\n",
      "Please also refer to the documentation for alternative solver options:\n",
      "    https://scikit-learn.org/stable/modules/linear_model.html#logistic-regression\n",
      "  n_iter_i = _check_optimize_result(\n",
      "/Users/carlagonzalez/opt/anaconda3/lib/python3.9/site-packages/sklearn/linear_model/_logistic.py:814: ConvergenceWarning: lbfgs failed to converge (status=1):\n",
      "STOP: TOTAL NO. of ITERATIONS REACHED LIMIT.\n",
      "\n",
      "Increase the number of iterations (max_iter) or scale the data as shown in:\n",
      "    https://scikit-learn.org/stable/modules/preprocessing.html\n",
      "Please also refer to the documentation for alternative solver options:\n",
      "    https://scikit-learn.org/stable/modules/linear_model.html#logistic-regression\n",
      "  n_iter_i = _check_optimize_result(\n",
      "/Users/carlagonzalez/opt/anaconda3/lib/python3.9/site-packages/sklearn/linear_model/_logistic.py:814: ConvergenceWarning: lbfgs failed to converge (status=1):\n",
      "STOP: TOTAL NO. of ITERATIONS REACHED LIMIT.\n",
      "\n",
      "Increase the number of iterations (max_iter) or scale the data as shown in:\n",
      "    https://scikit-learn.org/stable/modules/preprocessing.html\n",
      "Please also refer to the documentation for alternative solver options:\n",
      "    https://scikit-learn.org/stable/modules/linear_model.html#logistic-regression\n",
      "  n_iter_i = _check_optimize_result(\n",
      "/Users/carlagonzalez/opt/anaconda3/lib/python3.9/site-packages/sklearn/linear_model/_logistic.py:814: ConvergenceWarning: lbfgs failed to converge (status=1):\n",
      "STOP: TOTAL NO. of ITERATIONS REACHED LIMIT.\n",
      "\n",
      "Increase the number of iterations (max_iter) or scale the data as shown in:\n",
      "    https://scikit-learn.org/stable/modules/preprocessing.html\n",
      "Please also refer to the documentation for alternative solver options:\n",
      "    https://scikit-learn.org/stable/modules/linear_model.html#logistic-regression\n",
      "  n_iter_i = _check_optimize_result(\n",
      "/Users/carlagonzalez/opt/anaconda3/lib/python3.9/site-packages/sklearn/linear_model/_logistic.py:814: ConvergenceWarning: lbfgs failed to converge (status=1):\n",
      "STOP: TOTAL NO. of ITERATIONS REACHED LIMIT.\n",
      "\n",
      "Increase the number of iterations (max_iter) or scale the data as shown in:\n",
      "    https://scikit-learn.org/stable/modules/preprocessing.html\n",
      "Please also refer to the documentation for alternative solver options:\n",
      "    https://scikit-learn.org/stable/modules/linear_model.html#logistic-regression\n",
      "  n_iter_i = _check_optimize_result(\n"
     ]
    },
    {
     "name": "stdout",
     "output_type": "stream",
     "text": [
      "Mean cross validation accuracy for model voting = 0.6234604105571847\n",
      "Best model is grad_boost with 5-fold accuracy of 0.6304985337243402\n"
     ]
    }
   ],
   "source": [
    "from sklearn.model_selection import train_test_split\n",
    "from sklearn.model_selection import cross_val_score\n",
    "\n",
    "features = features_transformed_df.to_numpy()\n",
    "labels = labels_df.to_numpy()\n",
    "_x, x_test, _y, y_test = train_test_split(features, labels, test_size=0.10, random_state=42)\n",
    "\n",
    "k = 5\n",
    "\n",
    "best_model_name = \"\"\n",
    "best_model_valid_accuracy = 0\n",
    "best_model = None\n",
    "\n",
    "for model_name in all_models.keys():\n",
    "    model = all_models[model_name]\n",
    "    cv_scores = cross_val_score(model,_x,_y.flatten(), cv=k, n_jobs=4)\n",
    "    average_cv_score = cv_scores.mean()\n",
    "    print (f\"Mean cross validation accuracy for model {model_name} = {average_cv_score}\")\n",
    "\n",
    "    if average_cv_score > best_model_valid_accuracy :\n",
    "        best_model_name = model_name\n",
    "        best_model_valid_accuracy  = average_cv_score\n",
    "        best_model = model\n",
    "\n",
    "print (f\"Best model is {best_model_name} with {k}-fold accuracy of {best_model_valid_accuracy}\")"
   ]
  },
  {
   "cell_type": "markdown",
   "id": "35113837",
   "metadata": {},
   "source": [
    "Testing accuracy for best model, in this case gradient boosting classifier:"
   ]
  },
  {
   "cell_type": "code",
   "execution_count": 95,
   "id": "62cb91e0",
   "metadata": {},
   "outputs": [
    {
     "data": {
      "text/plain": [
       "GradientBoostingClassifier()"
      ]
     },
     "execution_count": 95,
     "metadata": {},
     "output_type": "execute_result"
    },
    {
     "name": "stdout",
     "output_type": "stream",
     "text": [
      "Test accuracy for model 0.6157894736842106\n"
     ]
    }
   ],
   "source": [
    "from sklearn.metrics import accuracy_score\n",
    "\n",
    "best_model.fit(_x,_y.flatten())\n",
    "\n",
    "y_pred_test = best_model.predict(x_test)\n",
    "test_accuracy = accuracy_score(y_pred_test, y_test.flatten())\n",
    "\n",
    "print (f\"Test accuracy for model {test_accuracy}\")"
   ]
  },
  {
   "cell_type": "markdown",
   "id": "280100d1",
   "metadata": {},
   "source": [
    "### Feature Ranking: Ablation Test "
   ]
  },
  {
   "cell_type": "code",
   "execution_count": 96,
   "id": "a91e8e26",
   "metadata": {},
   "outputs": [
    {
     "name": "stdout",
     "output_type": "stream",
     "text": [
      "Removing feature Temperature AVG\n",
      "Mean cross validation accuracy = 0.632258064516129\n",
      "Removing feature Relative Humidity AVG\n",
      "Mean cross validation accuracy = 0.6263929618768328\n",
      "Removing feature Wind Speed Daily AVG\n",
      "Mean cross validation accuracy = 0.6275659824046921\n",
      "Removing feature Wind Direction AVG\n",
      "Mean cross validation accuracy = 0.6287390029325512\n",
      "Removing feature Solare Radiation AVG\n",
      "Mean cross validation accuracy = 0.619941348973607\n"
     ]
    }
   ],
   "source": [
    "best_model = GradientBoostingClassifier()\n",
    "feature_names = features_transformed_df.columns[0:5]\n",
    "\n",
    "# Let's maintain an accuracy dictionary\n",
    "\n",
    "accuracy_drop_log = {\"No ablation\":0}\n",
    "\n",
    "for i in range(len(feature_names)):\n",
    "    # we are going to drop one feature at a time\n",
    "    feature_name = feature_names[i]\n",
    "    print (f\"Removing feature {feature_name}\")\n",
    "    \n",
    "    # Remmeber? We have the train + valid data in the above section?\n",
    "    # We just remove the feature by not selecting the column from the index i\n",
    "\n",
    "    x_ablated = np.delete(_x,i,axis=1) # axis = 1 means columns\n",
    "    \n",
    "    cv_scores = cross_val_score(best_model,x_ablated,_y.flatten(), cv=k, n_jobs=4)\n",
    "    average_cv_score = cv_scores.mean()\n",
    "    print (f\"Mean cross validation accuracy = {average_cv_score}\")\n",
    "    accuracy_drop_log[feature_name] = best_model_valid_accuracy-average_cv_score\n",
    "    "
   ]
  },
  {
   "cell_type": "markdown",
   "id": "05f4b79b",
   "metadata": {},
   "source": [
    "### Plotting accuracies after ablation test"
   ]
  },
  {
   "cell_type": "code",
   "execution_count": 97,
   "id": "cff4d6b6",
   "metadata": {},
   "outputs": [
    {
     "data": {
      "text/plain": [
       "<BarContainer object of 6 artists>"
      ]
     },
     "execution_count": 97,
     "metadata": {},
     "output_type": "execute_result"
    },
    {
     "data": {
      "text/plain": [
       "([0, 1, 2, 3, 4, 5],\n",
       " [Text(0, 0, ''),\n",
       "  Text(0, 0, ''),\n",
       "  Text(0, 0, ''),\n",
       "  Text(0, 0, ''),\n",
       "  Text(0, 0, ''),\n",
       "  Text(0, 0, '')])"
      ]
     },
     "execution_count": 97,
     "metadata": {},
     "output_type": "execute_result"
    },
    {
     "data": {
      "image/png": "[encoded data removed]",
      "text/plain": [
       "<Figure size 640x480 with 1 Axes>"
      ]
     },
     "metadata": {},
     "output_type": "display_data"
    }
   ],
   "source": [
    "from matplotlib import pyplot as plt\n",
    "\n",
    "plt.bar(accuracy_drop_log.keys(), accuracy_drop_log.values(), color=\"maroon\", width = 0.4)\n",
    "plt.xticks(rotation=\"vertical\")"
   ]
  },
  {
   "cell_type": "code",
   "execution_count": 98,
   "id": "cc07ee47",
   "metadata": {},
   "outputs": [
    {
     "name": "stdout",
     "output_type": "stream",
     "text": [
      "Features are ranked from best to worst (based on how removing them impacts the accuracy of grad_boost)\n",
      "**************************************\n",
      "Feature 1.Solare Radiation AVG, drop in acc 0.010557184750733195\n",
      "Feature 2.Relative Humidity AVG, drop in acc 0.004105571847507372\n",
      "Feature 3.Wind Speed Daily AVG, drop in acc 0.0029325513196480912\n",
      "Feature 4.Wind Direction AVG, drop in acc 0.0017595307917889214\n",
      "Feature 5.Temperature AVG, drop in acc -0.0017595307917888103\n"
     ]
    }
   ],
   "source": [
    "def criteria(l):\n",
    "    return l[1]\n",
    "\n",
    "sorted_accs =  sorted(accuracy_drop_log.items(),key=criteria, reverse=True)\n",
    "\n",
    "print (f\"Features are ranked from best to worst (based on how removing them impacts the accuracy of {best_model_name})\")\n",
    "print (f\"**************************************\")\n",
    "\n",
    "i=1\n",
    "for entry in sorted_accs:\n",
    "    feature_name = entry[0]\n",
    "    acc_drop = entry[1]\n",
    "    \n",
    "    # We do not want to print \"No ablation\"\n",
    "    if feature_name != \"No ablation\":\n",
    "        print (f\"Feature {i}.{feature_name}, drop in acc {acc_drop}\")\n",
    "        i=i+1\n"
   ]
  },
  {
   "cell_type": "markdown",
   "id": "dcca8c3d",
   "metadata": {},
   "source": [
    "Looking at the feature ranking list, after the ablation test, led to the conclusion that the feature with most impact on the model is solare radiation, followed by wind speed daily and relative humidity. "
   ]
  }
 ],
 "metadata": {
  "kernelspec": {
   "display_name": "Python 3 (ipykernel)",
   "language": "python",
   "name": "python3"
  },
  "language_info": {
   "codemirror_mode": {
    "name": "ipython",
    "version": 3
   },
   "file_extension": ".py",
   "mimetype": "text/x-python",
   "name": "python",
   "nbconvert_exporter": "python",
   "pygments_lexer": "ipython3",
   "version": "3.9.12"
  }
 },
 "nbformat": 4,
 "nbformat_minor": 5
}
